{
 "cells": [
  {
   "cell_type": "markdown",
   "id": "96e78433",
   "metadata": {},
   "source": [
    "# The Analysis\n",
    "\n",
    "Begin by opening `cleaned.csv`. Make sure we can see all of the columns."
   ]
  },
  {
   "cell_type": "code",
   "execution_count": 1,
   "id": "252e5991",
   "metadata": {},
   "outputs": [
    {
     "data": {
      "text/html": [
       "<div>\n",
       "<style scoped>\n",
       "    .dataframe tbody tr th:only-of-type {\n",
       "        vertical-align: middle;\n",
       "    }\n",
       "\n",
       "    .dataframe tbody tr th {\n",
       "        vertical-align: top;\n",
       "    }\n",
       "\n",
       "    .dataframe thead th {\n",
       "        text-align: right;\n",
       "    }\n",
       "</style>\n",
       "<table border=\"1\" class=\"dataframe\">\n",
       "  <thead>\n",
       "    <tr style=\"text-align: right;\">\n",
       "      <th></th>\n",
       "      <th>BOROUGH</th>\n",
       "      <th>NEIGHBORHOOD</th>\n",
       "      <th>BUILDING CLASS CATEGORY</th>\n",
       "      <th>TAX CLASS AT PRESENT</th>\n",
       "      <th>BLOCK</th>\n",
       "      <th>LOT</th>\n",
       "      <th>EASE-MENT</th>\n",
       "      <th>BUILDING CLASS AT PRESENT</th>\n",
       "      <th>ADDRESS</th>\n",
       "      <th>APARTMENT NUMBER</th>\n",
       "      <th>...</th>\n",
       "      <th>RESIDENTIAL UNITS</th>\n",
       "      <th>COMMERCIAL UNITS</th>\n",
       "      <th>TOTAL UNITS</th>\n",
       "      <th>LAND SQUARE FEET</th>\n",
       "      <th>GROSS SQUARE FEET</th>\n",
       "      <th>YEAR BUILT</th>\n",
       "      <th>TAX CLASS AT TIME OF SALE</th>\n",
       "      <th>BUILDING CLASS AT TIME OF SALE</th>\n",
       "      <th>SALE PRICE</th>\n",
       "      <th>SALE DATE</th>\n",
       "    </tr>\n",
       "  </thead>\n",
       "  <tbody>\n",
       "    <tr>\n",
       "      <th>0</th>\n",
       "      <td>3</td>\n",
       "      <td>BATH BEACH</td>\n",
       "      <td>01  ONE FAMILY HOMES</td>\n",
       "      <td>1</td>\n",
       "      <td>6361</td>\n",
       "      <td>19</td>\n",
       "      <td>NaN</td>\n",
       "      <td>A5</td>\n",
       "      <td>51 BAY 10TH   STREET</td>\n",
       "      <td>NaN</td>\n",
       "      <td>...</td>\n",
       "      <td>1.0</td>\n",
       "      <td>0.0</td>\n",
       "      <td>1.0</td>\n",
       "      <td>1933.0</td>\n",
       "      <td>1660.0</td>\n",
       "      <td>1930.0</td>\n",
       "      <td>1</td>\n",
       "      <td>A5</td>\n",
       "      <td>649000</td>\n",
       "      <td>2007-08-31 00:00:00</td>\n",
       "    </tr>\n",
       "    <tr>\n",
       "      <th>1</th>\n",
       "      <td>3</td>\n",
       "      <td>BATH BEACH</td>\n",
       "      <td>01  ONE FAMILY HOMES</td>\n",
       "      <td>1</td>\n",
       "      <td>6363</td>\n",
       "      <td>37</td>\n",
       "      <td>NaN</td>\n",
       "      <td>A5</td>\n",
       "      <td>8611 16TH   AVENUE</td>\n",
       "      <td>NaN</td>\n",
       "      <td>...</td>\n",
       "      <td>1.0</td>\n",
       "      <td>0.0</td>\n",
       "      <td>1.0</td>\n",
       "      <td>1893.0</td>\n",
       "      <td>1714.0</td>\n",
       "      <td>1930.0</td>\n",
       "      <td>1</td>\n",
       "      <td>A5</td>\n",
       "      <td>520000</td>\n",
       "      <td>2007-05-22 00:00:00</td>\n",
       "    </tr>\n",
       "    <tr>\n",
       "      <th>2</th>\n",
       "      <td>3</td>\n",
       "      <td>BATH BEACH</td>\n",
       "      <td>01  ONE FAMILY HOMES</td>\n",
       "      <td>1</td>\n",
       "      <td>6363</td>\n",
       "      <td>62</td>\n",
       "      <td>NaN</td>\n",
       "      <td>A9</td>\n",
       "      <td>44 BAY 13TH STREET</td>\n",
       "      <td>NaN</td>\n",
       "      <td>...</td>\n",
       "      <td>1.0</td>\n",
       "      <td>0.0</td>\n",
       "      <td>1.0</td>\n",
       "      <td>3575.0</td>\n",
       "      <td>2104.0</td>\n",
       "      <td>1901.0</td>\n",
       "      <td>1</td>\n",
       "      <td>A9</td>\n",
       "      <td>0</td>\n",
       "      <td>2007-11-27 00:00:00</td>\n",
       "    </tr>\n",
       "    <tr>\n",
       "      <th>3</th>\n",
       "      <td>3</td>\n",
       "      <td>BATH BEACH</td>\n",
       "      <td>01  ONE FAMILY HOMES</td>\n",
       "      <td>1</td>\n",
       "      <td>6364</td>\n",
       "      <td>47</td>\n",
       "      <td>NaN</td>\n",
       "      <td>S1</td>\n",
       "      <td>1656 86 STREET</td>\n",
       "      <td>NaN</td>\n",
       "      <td>...</td>\n",
       "      <td>1.0</td>\n",
       "      <td>1.0</td>\n",
       "      <td>2.0</td>\n",
       "      <td>1248.0</td>\n",
       "      <td>1620.0</td>\n",
       "      <td>1901.0</td>\n",
       "      <td>1</td>\n",
       "      <td>S1</td>\n",
       "      <td>645000</td>\n",
       "      <td>2007-04-18 00:00:00</td>\n",
       "    </tr>\n",
       "    <tr>\n",
       "      <th>4</th>\n",
       "      <td>3</td>\n",
       "      <td>BATH BEACH</td>\n",
       "      <td>01  ONE FAMILY HOMES</td>\n",
       "      <td>1</td>\n",
       "      <td>6371</td>\n",
       "      <td>19</td>\n",
       "      <td>NaN</td>\n",
       "      <td>A9</td>\n",
       "      <td>79 BAY 20 STREET</td>\n",
       "      <td>NaN</td>\n",
       "      <td>...</td>\n",
       "      <td>1.0</td>\n",
       "      <td>0.0</td>\n",
       "      <td>1.0</td>\n",
       "      <td>2320.0</td>\n",
       "      <td>1956.0</td>\n",
       "      <td>1930.0</td>\n",
       "      <td>1</td>\n",
       "      <td>A9</td>\n",
       "      <td>0</td>\n",
       "      <td>2007-09-12 00:00:00</td>\n",
       "    </tr>\n",
       "  </tbody>\n",
       "</table>\n",
       "<p>5 rows × 21 columns</p>\n",
       "</div>"
      ],
      "text/plain": [
       "   BOROUGH NEIGHBORHOOD BUILDING CLASS CATEGORY TAX CLASS AT PRESENT  BLOCK  \\\n",
       "0        3   BATH BEACH    01  ONE FAMILY HOMES                    1   6361   \n",
       "1        3   BATH BEACH    01  ONE FAMILY HOMES                    1   6363   \n",
       "2        3   BATH BEACH    01  ONE FAMILY HOMES                    1   6363   \n",
       "3        3   BATH BEACH    01  ONE FAMILY HOMES                    1   6364   \n",
       "4        3   BATH BEACH    01  ONE FAMILY HOMES                    1   6371   \n",
       "\n",
       "   LOT  EASE-MENT BUILDING CLASS AT PRESENT               ADDRESS  \\\n",
       "0   19        NaN                        A5  51 BAY 10TH   STREET   \n",
       "1   37        NaN                        A5    8611 16TH   AVENUE   \n",
       "2   62        NaN                        A9    44 BAY 13TH STREET   \n",
       "3   47        NaN                        S1        1656 86 STREET   \n",
       "4   19        NaN                        A9      79 BAY 20 STREET   \n",
       "\n",
       "  APARTMENT NUMBER  ...  RESIDENTIAL UNITS  COMMERCIAL UNITS  TOTAL UNITS  \\\n",
       "0              NaN  ...                1.0               0.0          1.0   \n",
       "1              NaN  ...                1.0               0.0          1.0   \n",
       "2              NaN  ...                1.0               0.0          1.0   \n",
       "3              NaN  ...                1.0               1.0          2.0   \n",
       "4              NaN  ...                1.0               0.0          1.0   \n",
       "\n",
       "   LAND SQUARE FEET  GROSS SQUARE FEET  YEAR BUILT  TAX CLASS AT TIME OF SALE  \\\n",
       "0            1933.0             1660.0      1930.0                          1   \n",
       "1            1893.0             1714.0      1930.0                          1   \n",
       "2            3575.0             2104.0      1901.0                          1   \n",
       "3            1248.0             1620.0      1901.0                          1   \n",
       "4            2320.0             1956.0      1930.0                          1   \n",
       "\n",
       "   BUILDING CLASS AT TIME OF SALE SALE PRICE            SALE DATE  \n",
       "0                              A5     649000  2007-08-31 00:00:00  \n",
       "1                              A5     520000  2007-05-22 00:00:00  \n",
       "2                              A9          0  2007-11-27 00:00:00  \n",
       "3                              S1     645000  2007-04-18 00:00:00  \n",
       "4                              A9          0  2007-09-12 00:00:00  \n",
       "\n",
       "[5 rows x 21 columns]"
      ]
     },
     "execution_count": 1,
     "metadata": {},
     "output_type": "execute_result"
    }
   ],
   "source": [
    "import pandas as pd\n",
    "\n",
    "df = pd.read_csv('cleaned.csv')\n",
    "\n",
    "df.head()"
   ]
  },
  {
   "cell_type": "markdown",
   "id": "f38283ba",
   "metadata": {},
   "source": [
    "## Fix the column names\n",
    "\n",
    "Sigh, I don't like the whole \"GROSS SQUARE FEET\" kind of thing. Let's turn that into `gross_square_feet` (along with all the other columns). "
   ]
  },
  {
   "cell_type": "code",
   "execution_count": 4,
   "id": "a4038120",
   "metadata": {},
   "outputs": [],
   "source": [
    "df.columns = df.columns.str.lower().str.replace(' ', '_')"
   ]
  },
  {
   "cell_type": "code",
   "execution_count": 6,
   "id": "2f3b8b20",
   "metadata": {},
   "outputs": [
    {
     "data": {
      "text/html": [
       "<div>\n",
       "<style scoped>\n",
       "    .dataframe tbody tr th:only-of-type {\n",
       "        vertical-align: middle;\n",
       "    }\n",
       "\n",
       "    .dataframe tbody tr th {\n",
       "        vertical-align: top;\n",
       "    }\n",
       "\n",
       "    .dataframe thead th {\n",
       "        text-align: right;\n",
       "    }\n",
       "</style>\n",
       "<table border=\"1\" class=\"dataframe\">\n",
       "  <thead>\n",
       "    <tr style=\"text-align: right;\">\n",
       "      <th></th>\n",
       "      <th>borough</th>\n",
       "      <th>neighborhood</th>\n",
       "      <th>building_class_category</th>\n",
       "      <th>tax_class_at_present</th>\n",
       "      <th>block</th>\n",
       "      <th>lot</th>\n",
       "      <th>ease-ment</th>\n",
       "      <th>building_class_at_present</th>\n",
       "      <th>address</th>\n",
       "      <th>apartment_number</th>\n",
       "      <th>...</th>\n",
       "      <th>residential_units</th>\n",
       "      <th>commercial_units</th>\n",
       "      <th>total_units</th>\n",
       "      <th>land_square_feet</th>\n",
       "      <th>gross_square_feet</th>\n",
       "      <th>year_built</th>\n",
       "      <th>tax_class_at_time_of_sale</th>\n",
       "      <th>building_class_at_time_of_sale</th>\n",
       "      <th>sale_price</th>\n",
       "      <th>sale_date</th>\n",
       "    </tr>\n",
       "  </thead>\n",
       "  <tbody>\n",
       "    <tr>\n",
       "      <th>0</th>\n",
       "      <td>3</td>\n",
       "      <td>BATH BEACH</td>\n",
       "      <td>01  ONE FAMILY HOMES</td>\n",
       "      <td>1</td>\n",
       "      <td>6361</td>\n",
       "      <td>19</td>\n",
       "      <td>NaN</td>\n",
       "      <td>A5</td>\n",
       "      <td>51 BAY 10TH   STREET</td>\n",
       "      <td>NaN</td>\n",
       "      <td>...</td>\n",
       "      <td>1.0</td>\n",
       "      <td>0.0</td>\n",
       "      <td>1.0</td>\n",
       "      <td>1933.0</td>\n",
       "      <td>1660.0</td>\n",
       "      <td>1930.0</td>\n",
       "      <td>1</td>\n",
       "      <td>A5</td>\n",
       "      <td>649000</td>\n",
       "      <td>2007-08-31 00:00:00</td>\n",
       "    </tr>\n",
       "    <tr>\n",
       "      <th>1</th>\n",
       "      <td>3</td>\n",
       "      <td>BATH BEACH</td>\n",
       "      <td>01  ONE FAMILY HOMES</td>\n",
       "      <td>1</td>\n",
       "      <td>6363</td>\n",
       "      <td>37</td>\n",
       "      <td>NaN</td>\n",
       "      <td>A5</td>\n",
       "      <td>8611 16TH   AVENUE</td>\n",
       "      <td>NaN</td>\n",
       "      <td>...</td>\n",
       "      <td>1.0</td>\n",
       "      <td>0.0</td>\n",
       "      <td>1.0</td>\n",
       "      <td>1893.0</td>\n",
       "      <td>1714.0</td>\n",
       "      <td>1930.0</td>\n",
       "      <td>1</td>\n",
       "      <td>A5</td>\n",
       "      <td>520000</td>\n",
       "      <td>2007-05-22 00:00:00</td>\n",
       "    </tr>\n",
       "    <tr>\n",
       "      <th>2</th>\n",
       "      <td>3</td>\n",
       "      <td>BATH BEACH</td>\n",
       "      <td>01  ONE FAMILY HOMES</td>\n",
       "      <td>1</td>\n",
       "      <td>6363</td>\n",
       "      <td>62</td>\n",
       "      <td>NaN</td>\n",
       "      <td>A9</td>\n",
       "      <td>44 BAY 13TH STREET</td>\n",
       "      <td>NaN</td>\n",
       "      <td>...</td>\n",
       "      <td>1.0</td>\n",
       "      <td>0.0</td>\n",
       "      <td>1.0</td>\n",
       "      <td>3575.0</td>\n",
       "      <td>2104.0</td>\n",
       "      <td>1901.0</td>\n",
       "      <td>1</td>\n",
       "      <td>A9</td>\n",
       "      <td>0</td>\n",
       "      <td>2007-11-27 00:00:00</td>\n",
       "    </tr>\n",
       "  </tbody>\n",
       "</table>\n",
       "<p>3 rows × 21 columns</p>\n",
       "</div>"
      ],
      "text/plain": [
       "   borough neighborhood building_class_category tax_class_at_present  block  \\\n",
       "0        3   BATH BEACH    01  ONE FAMILY HOMES                    1   6361   \n",
       "1        3   BATH BEACH    01  ONE FAMILY HOMES                    1   6363   \n",
       "2        3   BATH BEACH    01  ONE FAMILY HOMES                    1   6363   \n",
       "\n",
       "   lot  ease-ment building_class_at_present               address  \\\n",
       "0   19        NaN                        A5  51 BAY 10TH   STREET   \n",
       "1   37        NaN                        A5    8611 16TH   AVENUE   \n",
       "2   62        NaN                        A9    44 BAY 13TH STREET   \n",
       "\n",
       "  apartment_number  ...  residential_units  commercial_units  total_units  \\\n",
       "0              NaN  ...                1.0               0.0          1.0   \n",
       "1              NaN  ...                1.0               0.0          1.0   \n",
       "2              NaN  ...                1.0               0.0          1.0   \n",
       "\n",
       "   land_square_feet  gross_square_feet  year_built  tax_class_at_time_of_sale  \\\n",
       "0            1933.0             1660.0      1930.0                          1   \n",
       "1            1893.0             1714.0      1930.0                          1   \n",
       "2            3575.0             2104.0      1901.0                          1   \n",
       "\n",
       "   building_class_at_time_of_sale sale_price            sale_date  \n",
       "0                              A5     649000  2007-08-31 00:00:00  \n",
       "1                              A5     520000  2007-05-22 00:00:00  \n",
       "2                              A9          0  2007-11-27 00:00:00  \n",
       "\n",
       "[3 rows x 21 columns]"
      ]
     },
     "execution_count": 6,
     "metadata": {},
     "output_type": "execute_result"
    }
   ],
   "source": [
    "df.head(3)"
   ]
  },
  {
   "cell_type": "markdown",
   "id": "0ee01dd3",
   "metadata": {},
   "source": [
    "## Convert the sale date to a datetime using `pd.to_datetime`\n",
    "\n",
    "You could have also done it with `read_csv`! You can do `parse_dates=[...]` with a list of the dates you'd like to be turned into datetimes."
   ]
  },
  {
   "cell_type": "code",
   "execution_count": 8,
   "id": "cd525771",
   "metadata": {},
   "outputs": [
    {
     "data": {
      "text/html": [
       "<div>\n",
       "<style scoped>\n",
       "    .dataframe tbody tr th:only-of-type {\n",
       "        vertical-align: middle;\n",
       "    }\n",
       "\n",
       "    .dataframe tbody tr th {\n",
       "        vertical-align: top;\n",
       "    }\n",
       "\n",
       "    .dataframe thead th {\n",
       "        text-align: right;\n",
       "    }\n",
       "</style>\n",
       "<table border=\"1\" class=\"dataframe\">\n",
       "  <thead>\n",
       "    <tr style=\"text-align: right;\">\n",
       "      <th></th>\n",
       "      <th>borough</th>\n",
       "      <th>neighborhood</th>\n",
       "      <th>building_class_category</th>\n",
       "      <th>tax_class_at_present</th>\n",
       "      <th>block</th>\n",
       "      <th>lot</th>\n",
       "      <th>ease-ment</th>\n",
       "      <th>building_class_at_present</th>\n",
       "      <th>address</th>\n",
       "      <th>apartment_number</th>\n",
       "      <th>...</th>\n",
       "      <th>commercial_units</th>\n",
       "      <th>total_units</th>\n",
       "      <th>land_square_feet</th>\n",
       "      <th>gross_square_feet</th>\n",
       "      <th>year_built</th>\n",
       "      <th>tax_class_at_time_of_sale</th>\n",
       "      <th>building_class_at_time_of_sale</th>\n",
       "      <th>sale_price</th>\n",
       "      <th>sale_date</th>\n",
       "      <th>sale_date_datetime</th>\n",
       "    </tr>\n",
       "  </thead>\n",
       "  <tbody>\n",
       "    <tr>\n",
       "      <th>0</th>\n",
       "      <td>3</td>\n",
       "      <td>BATH BEACH</td>\n",
       "      <td>01  ONE FAMILY HOMES</td>\n",
       "      <td>1</td>\n",
       "      <td>6361</td>\n",
       "      <td>19</td>\n",
       "      <td>NaN</td>\n",
       "      <td>A5</td>\n",
       "      <td>51 BAY 10TH   STREET</td>\n",
       "      <td>NaN</td>\n",
       "      <td>...</td>\n",
       "      <td>0.0</td>\n",
       "      <td>1.0</td>\n",
       "      <td>1933.0</td>\n",
       "      <td>1660.0</td>\n",
       "      <td>1930.0</td>\n",
       "      <td>1</td>\n",
       "      <td>A5</td>\n",
       "      <td>649000</td>\n",
       "      <td>2007-08-31 00:00:00</td>\n",
       "      <td>2007-08-31</td>\n",
       "    </tr>\n",
       "    <tr>\n",
       "      <th>1</th>\n",
       "      <td>3</td>\n",
       "      <td>BATH BEACH</td>\n",
       "      <td>01  ONE FAMILY HOMES</td>\n",
       "      <td>1</td>\n",
       "      <td>6363</td>\n",
       "      <td>37</td>\n",
       "      <td>NaN</td>\n",
       "      <td>A5</td>\n",
       "      <td>8611 16TH   AVENUE</td>\n",
       "      <td>NaN</td>\n",
       "      <td>...</td>\n",
       "      <td>0.0</td>\n",
       "      <td>1.0</td>\n",
       "      <td>1893.0</td>\n",
       "      <td>1714.0</td>\n",
       "      <td>1930.0</td>\n",
       "      <td>1</td>\n",
       "      <td>A5</td>\n",
       "      <td>520000</td>\n",
       "      <td>2007-05-22 00:00:00</td>\n",
       "      <td>2007-05-22</td>\n",
       "    </tr>\n",
       "    <tr>\n",
       "      <th>2</th>\n",
       "      <td>3</td>\n",
       "      <td>BATH BEACH</td>\n",
       "      <td>01  ONE FAMILY HOMES</td>\n",
       "      <td>1</td>\n",
       "      <td>6363</td>\n",
       "      <td>62</td>\n",
       "      <td>NaN</td>\n",
       "      <td>A9</td>\n",
       "      <td>44 BAY 13TH STREET</td>\n",
       "      <td>NaN</td>\n",
       "      <td>...</td>\n",
       "      <td>0.0</td>\n",
       "      <td>1.0</td>\n",
       "      <td>3575.0</td>\n",
       "      <td>2104.0</td>\n",
       "      <td>1901.0</td>\n",
       "      <td>1</td>\n",
       "      <td>A9</td>\n",
       "      <td>0</td>\n",
       "      <td>2007-11-27 00:00:00</td>\n",
       "      <td>2007-11-27</td>\n",
       "    </tr>\n",
       "  </tbody>\n",
       "</table>\n",
       "<p>3 rows × 22 columns</p>\n",
       "</div>"
      ],
      "text/plain": [
       "   borough neighborhood building_class_category tax_class_at_present  block  \\\n",
       "0        3   BATH BEACH    01  ONE FAMILY HOMES                    1   6361   \n",
       "1        3   BATH BEACH    01  ONE FAMILY HOMES                    1   6363   \n",
       "2        3   BATH BEACH    01  ONE FAMILY HOMES                    1   6363   \n",
       "\n",
       "   lot  ease-ment building_class_at_present               address  \\\n",
       "0   19        NaN                        A5  51 BAY 10TH   STREET   \n",
       "1   37        NaN                        A5    8611 16TH   AVENUE   \n",
       "2   62        NaN                        A9    44 BAY 13TH STREET   \n",
       "\n",
       "  apartment_number  ...  commercial_units  total_units  land_square_feet  \\\n",
       "0              NaN  ...               0.0          1.0            1933.0   \n",
       "1              NaN  ...               0.0          1.0            1893.0   \n",
       "2              NaN  ...               0.0          1.0            3575.0   \n",
       "\n",
       "   gross_square_feet  year_built  tax_class_at_time_of_sale  \\\n",
       "0             1660.0      1930.0                          1   \n",
       "1             1714.0      1930.0                          1   \n",
       "2             2104.0      1901.0                          1   \n",
       "\n",
       "   building_class_at_time_of_sale  sale_price            sale_date  \\\n",
       "0                              A5      649000  2007-08-31 00:00:00   \n",
       "1                              A5      520000  2007-05-22 00:00:00   \n",
       "2                              A9           0  2007-11-27 00:00:00   \n",
       "\n",
       "   sale_date_datetime  \n",
       "0          2007-08-31  \n",
       "1          2007-05-22  \n",
       "2          2007-11-27  \n",
       "\n",
       "[3 rows x 22 columns]"
      ]
     },
     "execution_count": 8,
     "metadata": {},
     "output_type": "execute_result"
    }
   ],
   "source": [
    "df['sale_date_datetime'] = pd.to_datetime(df.sale_date)\n",
    "\n",
    "df.head(3)"
   ]
  },
  {
   "cell_type": "markdown",
   "id": "cdfb9f34",
   "metadata": {},
   "source": [
    "## I've heard house buying is seasonal, with no sales in the winter. Which months of the year have the highest number of home sales?\n",
    "\n",
    "Show me on a graph. Is my secondhand knowledge correct?"
   ]
  },
  {
   "cell_type": "code",
   "execution_count": 18,
   "id": "c7bc98f9",
   "metadata": {},
   "outputs": [
    {
     "data": {
      "text/plain": [
       "<AxesSubplot: >"
      ]
     },
     "execution_count": 18,
     "metadata": {},
     "output_type": "execute_result"
    },
    {
     "data": {
      "image/png": "[encoded data removed]",
      "text/plain": [
       "<Figure size 640x480 with 1 Axes>"
      ]
     },
     "metadata": {},
     "output_type": "display_data"
    }
   ],
   "source": [
    "df.sale_date_datetime.dt.month.value_counts().sort_index().plot()"
   ]
  },
  {
   "cell_type": "markdown",
   "id": "655f9f7b",
   "metadata": {},
   "source": [
    "## Hm. How about years? Is there a pattern there?\n",
    "\n",
    "I'd like to see a bar chart (columns) of number of homes sold each year."
   ]
  },
  {
   "cell_type": "code",
   "execution_count": 19,
   "id": "e0019491",
   "metadata": {},
   "outputs": [
    {
     "data": {
      "text/plain": [
       "<AxesSubplot: >"
      ]
     },
     "execution_count": 19,
     "metadata": {},
     "output_type": "execute_result"
    },
    {
     "data": {
      "image/png": "[encoded data removed]",
      "text/plain": [
       "<Figure size 640x480 with 1 Axes>"
      ]
     },
     "metadata": {},
     "output_type": "display_data"
    }
   ],
   "source": [
    "df.sale_date_datetime.dt.year.value_counts().sort_index().plot()"
   ]
  },
  {
   "cell_type": "markdown",
   "id": "3a0ac6b7",
   "metadata": {},
   "source": [
    "## That really reminds me of the [Great Recession](https://en.wikipedia.org/wiki/Great_Recession).\n",
    "\n",
    "I'd like a little more detail, though, the years are just so *lumpy*. Can I see the number of house sales on a monthly basis through the whole dataset?\n",
    "\n",
    "> I kept using `colname.count()` when we did this in class, which was a horrible habit of mine in like 2016. I got smarter later, and realized you can just use `.size()` to count the number of rows in each group.\n",
    "\n",
    "And please make sure the x axis starts at zero. It's really a misrepresentation of the truth if it starts at 750 or whatever matplotlib wants to do by default."
   ]
  },
  {
   "cell_type": "code",
   "execution_count": 24,
   "id": "370b7414",
   "metadata": {},
   "outputs": [
    {
     "data": {
      "text/plain": [
       "<AxesSubplot: xlabel='sale_date_datetime'>"
      ]
     },
     "execution_count": 24,
     "metadata": {},
     "output_type": "execute_result"
    },
    {
     "data": {
      "image/png": "[encoded data removed]",
      "text/plain": [
       "<Figure size 640x480 with 1 Axes>"
      ]
     },
     "metadata": {},
     "output_type": "display_data"
    }
   ],
   "source": [
    "# Assuming it should be the y axis.\n",
    "\n",
    "df.resample('M', on='sale_date_datetime').size().plot(ylim=(0,3500))"
   ]
  },
  {
   "cell_type": "markdown",
   "id": "c14eb546",
   "metadata": {},
   "source": [
    "## That's still kind of rough. Can we smooth it out some more?\n",
    "\n",
    "I'd like to move from monthly house sales to something a little more spread out. Here are some frequency options from the pandas documentation:\n",
    "\n",
    "```\n",
    "B         business day frequency\n",
    "C         custom business day frequency (experimental)\n",
    "D         calendar day frequency\n",
    "W         weekly frequency\n",
    "M         month end frequency\n",
    "SM        semi-month end frequency (15th and end of month)\n",
    "BM        business month end frequency\n",
    "CBM       custom business month end frequency\n",
    "MS        month start frequency\n",
    "SMS       semi-month start frequency (1st and 15th)\n",
    "BMS       business month start frequency\n",
    "CBMS      custom business month start frequency\n",
    "Q         quarter end frequency\n",
    "BQ        business quarter endfrequency\n",
    "QS        quarter start frequency\n",
    "BQS       business quarter start frequency\n",
    "A         year end frequency\n",
    "BA, BY    business year end frequency\n",
    "AS, YS    year start frequency\n",
    "BAS, BYS  business year start frequency\n",
    "BH        business hour frequency\n",
    "H         hourly frequency\n",
    "T, min    minutely frequency\n",
    "S         secondly frequency\n",
    "L, ms     milliseconds\n",
    "U, us     microseconds\n",
    "N         nanoseconds\n",
    "```\n",
    "\n",
    "On top of just picking a frequency by itself, you can also add numbers! For example, `3A` is three years at a time, and `15D` is 15 days, etc. Maybe you could put that to use?"
   ]
  },
  {
   "cell_type": "code",
   "execution_count": 31,
   "id": "4d2de835",
   "metadata": {},
   "outputs": [
    {
     "data": {
      "text/plain": [
       "<AxesSubplot: xlabel='sale_date_datetime'>"
      ]
     },
     "execution_count": 31,
     "metadata": {},
     "output_type": "execute_result"
    },
    {
     "data": {
      "image/png": "[encoded data removed]",
      "text/plain": [
       "<Figure size 640x480 with 1 Axes>"
      ]
     },
     "metadata": {},
     "output_type": "display_data"
    }
   ],
   "source": [
    "df.resample('3Y', on='sale_date_datetime').size().plot()"
   ]
  },
  {
   "cell_type": "markdown",
   "id": "5933d5b3",
   "metadata": {},
   "source": [
    "Can you think of a better option than bundling this information in groups like this? Maybe from the cherry trees homework?"
   ]
  },
  {
   "cell_type": "code",
   "execution_count": null,
   "id": "7a6c171c",
   "metadata": {},
   "outputs": [],
   "source": [
    "# rolling date !"
   ]
  },
  {
   "cell_type": "markdown",
   "id": "08e23446",
   "metadata": {},
   "source": [
    "## But what about prices?\n",
    "\n",
    "I'm also pretty confident that "
   ]
  },
  {
   "cell_type": "code",
   "execution_count": 33,
   "id": "867c31c5",
   "metadata": {},
   "outputs": [
    {
     "data": {
      "text/plain": [
       "<AxesSubplot: xlabel='sale_date_datetime'>"
      ]
     },
     "execution_count": 33,
     "metadata": {},
     "output_type": "execute_result"
    },
    {
     "data": {
      "image/png": "[encoded data removed]",
      "text/plain": [
       "<Figure size 640x480 with 1 Axes>"
      ]
     },
     "metadata": {},
     "output_type": "display_data"
    }
   ],
   "source": [
    "df.resample('M', on='sale_date_datetime').sale_price.median().plot()"
   ]
  },
  {
   "cell_type": "markdown",
   "id": "4bc75069",
   "metadata": {},
   "source": [
    "W... wait, what? What are those months where it seems like nothing was sold, or it was all sold for zero dollars? Let's find the top 20 months for lowest median sale price."
   ]
  },
  {
   "cell_type": "code",
   "execution_count": 34,
   "id": "b7fb50a2",
   "metadata": {},
   "outputs": [
    {
     "data": {
      "text/plain": [
       "sale_date_datetime\n",
       "2012-09-30         0.0\n",
       "2020-09-30         0.0\n",
       "2012-03-31         0.0\n",
       "2009-02-28         0.0\n",
       "2020-08-31        10.0\n",
       "2009-03-31        20.0\n",
       "2009-01-31     77120.0\n",
       "2009-05-31    104000.0\n",
       "2009-06-30    115000.0\n",
       "2009-04-30    122500.0\n",
       "2007-09-30    140000.0\n",
       "2009-11-30    162000.0\n",
       "2010-11-30    175000.0\n",
       "2008-08-31    177450.0\n",
       "2013-03-31    180000.0\n",
       "2009-10-31    180000.0\n",
       "2012-12-31    181050.0\n",
       "2008-11-30    182500.0\n",
       "2020-07-31    188750.0\n",
       "2008-12-31    190000.0\n",
       "Name: sale_price, dtype: float64"
      ]
     },
     "execution_count": 34,
     "metadata": {},
     "output_type": "execute_result"
    }
   ],
   "source": [
    "df.resample('M', on='sale_date_datetime').sale_price.median().sort_values().head(20)"
   ]
  },
  {
   "cell_type": "markdown",
   "id": "0a9f402e",
   "metadata": {},
   "source": [
    "**??WHAT??**\n",
    "\n",
    "Did any houses even sell then???? Let's look at the sales on `2012-09-30`."
   ]
  },
  {
   "cell_type": "code",
   "execution_count": 35,
   "id": "a83f8a12",
   "metadata": {},
   "outputs": [
    {
     "data": {
      "text/html": [
       "<div>\n",
       "<style scoped>\n",
       "    .dataframe tbody tr th:only-of-type {\n",
       "        vertical-align: middle;\n",
       "    }\n",
       "\n",
       "    .dataframe tbody tr th {\n",
       "        vertical-align: top;\n",
       "    }\n",
       "\n",
       "    .dataframe thead th {\n",
       "        text-align: right;\n",
       "    }\n",
       "</style>\n",
       "<table border=\"1\" class=\"dataframe\">\n",
       "  <thead>\n",
       "    <tr style=\"text-align: right;\">\n",
       "      <th></th>\n",
       "      <th>borough</th>\n",
       "      <th>neighborhood</th>\n",
       "      <th>building_class_category</th>\n",
       "      <th>tax_class_at_present</th>\n",
       "      <th>block</th>\n",
       "      <th>lot</th>\n",
       "      <th>ease-ment</th>\n",
       "      <th>building_class_at_present</th>\n",
       "      <th>address</th>\n",
       "      <th>apartment_number</th>\n",
       "      <th>...</th>\n",
       "      <th>commercial_units</th>\n",
       "      <th>total_units</th>\n",
       "      <th>land_square_feet</th>\n",
       "      <th>gross_square_feet</th>\n",
       "      <th>year_built</th>\n",
       "      <th>tax_class_at_time_of_sale</th>\n",
       "      <th>building_class_at_time_of_sale</th>\n",
       "      <th>sale_price</th>\n",
       "      <th>sale_date</th>\n",
       "      <th>sale_date_datetime</th>\n",
       "    </tr>\n",
       "  </thead>\n",
       "  <tbody>\n",
       "    <tr>\n",
       "      <th>84631</th>\n",
       "      <td>3</td>\n",
       "      <td>BUSHWICK</td>\n",
       "      <td>02  TWO FAMILY HOMES</td>\n",
       "      <td>1</td>\n",
       "      <td>3396</td>\n",
       "      <td>62</td>\n",
       "      <td>NaN</td>\n",
       "      <td>B2</td>\n",
       "      <td>125 WEIRFIELD STREET</td>\n",
       "      <td>NaN</td>\n",
       "      <td>...</td>\n",
       "      <td>0.0</td>\n",
       "      <td>2.0</td>\n",
       "      <td>1767.0</td>\n",
       "      <td>3180.0</td>\n",
       "      <td>1910.0</td>\n",
       "      <td>1</td>\n",
       "      <td>B2</td>\n",
       "      <td>299000</td>\n",
       "      <td>2012-09-30 00:00:00</td>\n",
       "      <td>2012-09-30</td>\n",
       "    </tr>\n",
       "    <tr>\n",
       "      <th>84632</th>\n",
       "      <td>3</td>\n",
       "      <td>BUSHWICK</td>\n",
       "      <td>02  TWO FAMILY HOMES</td>\n",
       "      <td>1</td>\n",
       "      <td>3396</td>\n",
       "      <td>62</td>\n",
       "      <td>NaN</td>\n",
       "      <td>B2</td>\n",
       "      <td>125 WEIRFIELD STREET</td>\n",
       "      <td>NaN</td>\n",
       "      <td>...</td>\n",
       "      <td>0.0</td>\n",
       "      <td>2.0</td>\n",
       "      <td>1767.0</td>\n",
       "      <td>3180.0</td>\n",
       "      <td>1910.0</td>\n",
       "      <td>1</td>\n",
       "      <td>B2</td>\n",
       "      <td>0</td>\n",
       "      <td>2012-09-30 00:00:00</td>\n",
       "      <td>2012-09-30</td>\n",
       "    </tr>\n",
       "    <tr>\n",
       "      <th>100537</th>\n",
       "      <td>3</td>\n",
       "      <td>WILLIAMSBURG-EAST</td>\n",
       "      <td>41  TAX CLASS 4 - OTHER</td>\n",
       "      <td>4</td>\n",
       "      <td>3003</td>\n",
       "      <td>24</td>\n",
       "      <td>NaN</td>\n",
       "      <td>G7</td>\n",
       "      <td>53 GRATTAN STREET</td>\n",
       "      <td>NaN</td>\n",
       "      <td>...</td>\n",
       "      <td>0.0</td>\n",
       "      <td>0.0</td>\n",
       "      <td>1860.0</td>\n",
       "      <td>0.0</td>\n",
       "      <td>0.0</td>\n",
       "      <td>4</td>\n",
       "      <td>Z9</td>\n",
       "      <td>0</td>\n",
       "      <td>2012-09-30 00:00:00</td>\n",
       "      <td>2012-09-30</td>\n",
       "    </tr>\n",
       "    <tr>\n",
       "      <th>100538</th>\n",
       "      <td>3</td>\n",
       "      <td>WILLIAMSBURG-EAST</td>\n",
       "      <td>41  TAX CLASS 4 - OTHER</td>\n",
       "      <td>4</td>\n",
       "      <td>3003</td>\n",
       "      <td>25</td>\n",
       "      <td>NaN</td>\n",
       "      <td>G7</td>\n",
       "      <td>51 GRATTAN STREET</td>\n",
       "      <td>NaN</td>\n",
       "      <td>...</td>\n",
       "      <td>0.0</td>\n",
       "      <td>0.0</td>\n",
       "      <td>2270.0</td>\n",
       "      <td>0.0</td>\n",
       "      <td>0.0</td>\n",
       "      <td>4</td>\n",
       "      <td>Z9</td>\n",
       "      <td>0</td>\n",
       "      <td>2012-09-30 00:00:00</td>\n",
       "      <td>2012-09-30</td>\n",
       "    </tr>\n",
       "    <tr>\n",
       "      <th>100539</th>\n",
       "      <td>3</td>\n",
       "      <td>WILLIAMSBURG-EAST</td>\n",
       "      <td>41  TAX CLASS 4 - OTHER</td>\n",
       "      <td>4</td>\n",
       "      <td>3003</td>\n",
       "      <td>26</td>\n",
       "      <td>NaN</td>\n",
       "      <td>G7</td>\n",
       "      <td>49 GRATTAN STREET</td>\n",
       "      <td>NaN</td>\n",
       "      <td>...</td>\n",
       "      <td>0.0</td>\n",
       "      <td>0.0</td>\n",
       "      <td>2500.0</td>\n",
       "      <td>0.0</td>\n",
       "      <td>0.0</td>\n",
       "      <td>4</td>\n",
       "      <td>Z9</td>\n",
       "      <td>0</td>\n",
       "      <td>2012-09-30 00:00:00</td>\n",
       "      <td>2012-09-30</td>\n",
       "    </tr>\n",
       "  </tbody>\n",
       "</table>\n",
       "<p>5 rows × 22 columns</p>\n",
       "</div>"
      ],
      "text/plain": [
       "        borough       neighborhood  building_class_category  \\\n",
       "84631         3           BUSHWICK     02  TWO FAMILY HOMES   \n",
       "84632         3           BUSHWICK     02  TWO FAMILY HOMES   \n",
       "100537        3  WILLIAMSBURG-EAST  41  TAX CLASS 4 - OTHER   \n",
       "100538        3  WILLIAMSBURG-EAST  41  TAX CLASS 4 - OTHER   \n",
       "100539        3  WILLIAMSBURG-EAST  41  TAX CLASS 4 - OTHER   \n",
       "\n",
       "       tax_class_at_present  block  lot  ease-ment building_class_at_present  \\\n",
       "84631                     1   3396   62        NaN                        B2   \n",
       "84632                     1   3396   62        NaN                        B2   \n",
       "100537                    4   3003   24        NaN                        G7   \n",
       "100538                    4   3003   25        NaN                        G7   \n",
       "100539                    4   3003   26        NaN                        G7   \n",
       "\n",
       "                     address apartment_number  ...  commercial_units  \\\n",
       "84631   125 WEIRFIELD STREET              NaN  ...               0.0   \n",
       "84632   125 WEIRFIELD STREET              NaN  ...               0.0   \n",
       "100537     53 GRATTAN STREET              NaN  ...               0.0   \n",
       "100538     51 GRATTAN STREET              NaN  ...               0.0   \n",
       "100539     49 GRATTAN STREET              NaN  ...               0.0   \n",
       "\n",
       "        total_units  land_square_feet  gross_square_feet  year_built  \\\n",
       "84631           2.0            1767.0             3180.0      1910.0   \n",
       "84632           2.0            1767.0             3180.0      1910.0   \n",
       "100537          0.0            1860.0                0.0         0.0   \n",
       "100538          0.0            2270.0                0.0         0.0   \n",
       "100539          0.0            2500.0                0.0         0.0   \n",
       "\n",
       "        tax_class_at_time_of_sale  building_class_at_time_of_sale  sale_price  \\\n",
       "84631                           1                              B2      299000   \n",
       "84632                           1                              B2           0   \n",
       "100537                          4                              Z9           0   \n",
       "100538                          4                              Z9           0   \n",
       "100539                          4                              Z9           0   \n",
       "\n",
       "                  sale_date  sale_date_datetime  \n",
       "84631   2012-09-30 00:00:00          2012-09-30  \n",
       "84632   2012-09-30 00:00:00          2012-09-30  \n",
       "100537  2012-09-30 00:00:00          2012-09-30  \n",
       "100538  2012-09-30 00:00:00          2012-09-30  \n",
       "100539  2012-09-30 00:00:00          2012-09-30  \n",
       "\n",
       "[5 rows x 22 columns]"
      ]
     },
     "execution_count": 35,
     "metadata": {},
     "output_type": "execute_result"
    }
   ],
   "source": [
    "df[df.sale_date_datetime == '2012-09-30']"
   ]
  },
  {
   "cell_type": "markdown",
   "id": "72d6a95f",
   "metadata": {},
   "source": [
    "## We've got a LOT of weird stuff going on here! There are all of these FREE houses?\n",
    "\n",
    "Let's calculate what percent of the time sale prices are zero.\n",
    "\n",
    "**Two approaches:**\n",
    "\n",
    "1. The low-tech approach is calculating the size of the entire dataset, then filtering for where sale price is zero and getting the size of that subset.\n",
    "2. The other approach (THAT I LOVE) takes two steps:\n",
    "    - Write the \"is your sale price 0?\" code, but don't feed it to `df[...]` yet. It should be giving you Trues and Falses.\n",
    "    - Put parens around your statement, then add `.value_counts()`. This does a `value_counts()` on your Trues and Falses, thus calculating how often it's zero and how often it isn't!!!"
   ]
  },
  {
   "cell_type": "code",
   "execution_count": 39,
   "id": "1341f28c",
   "metadata": {},
   "outputs": [
    {
     "name": "stdout",
     "output_type": "stream",
     "text": [
      "CPU times: user 1 µs, sys: 1e+03 ns, total: 2 µs\n",
      "Wall time: 2.86 µs\n"
     ]
    },
    {
     "data": {
      "text/plain": [
       "False    225278\n",
       "True     132699\n",
       "Name: sale_price, dtype: int64"
      ]
     },
     "execution_count": 39,
     "metadata": {},
     "output_type": "execute_result"
    }
   ],
   "source": [
    "%time\n",
    "\n",
    "(df.sale_price == 0).value_counts()"
   ]
  },
  {
   "cell_type": "markdown",
   "id": "6f468edb",
   "metadata": {},
   "source": [
    "## Also, what's the \"building class\" thing?\n",
    "\n",
    "I always assumed we were talking about houses, now there's this `41 TAX CLASS 4 - OTHER` thing? And when you google the addresses, they turn out to be parking lots???\n",
    "\n",
    "**I guess we were really just making some dumb assumptions!** Let's narrow things down a bit. We'll start by looking at what the different building classes.\n",
    "\n",
    "Look at what the most common building classes are in the dataset. There are a few columns, take a look at couple between `building_class_category` and `building_class_at_present` or `building_class_at_time_of_sale`. Maybe just check out the top 20 building classes in a sale?"
   ]
  },
  {
   "cell_type": "code",
   "execution_count": 43,
   "id": "df997bfa",
   "metadata": {},
   "outputs": [
    {
     "data": {
      "text/plain": [
       "building_class_category             building_class_at_present  building_class_at_time_of_sale\n",
       "13  CONDOS - ELEVATOR APARTMENTS    R4                         R4                                26134\n",
       "10  COOPS - ELEVATOR APARTMENTS     D4                         D4                                19807\n",
       "13 CONDOS - ELEVATOR APARTMENTS     R4                         R4                                13629\n",
       "03  THREE FAMILY HOMES              C0                         C0                                12430\n",
       "02  TWO FAMILY HOMES                B1                         B1                                12113\n",
       "02 TWO FAMILY DWELLINGS             B1                         B1                                11833\n",
       "03 THREE FAMILY DWELLINGS           C0                         C0                                10979\n",
       "10 COOPS - ELEVATOR APARTMENTS      D4                         D4                                10836\n",
       "03  THREE FAMILY DWELLINGS          C0                         C0                                 9665\n",
       "02  TWO FAMILY DWELLINGS            B1                         B1                                 9288\n",
       "15  CONDOS - 2-10 UNIT RESIDENTIAL  R1                         R1                                 7063\n",
       "02  TWO FAMILY HOMES                B3                         B3                                 6851\n",
       "                                    B2                         B2                                 6264\n",
       "02 TWO FAMILY DWELLINGS             B3                         B3                                 6120\n",
       "07  RENTALS - WALKUP APARTMENTS     C3                         C3                                 5943\n",
       "02 TWO FAMILY DWELLINGS             B2                         B2                                 5933\n",
       "01 ONE FAMILY DWELLINGS             A5                         A5                                 5930\n",
       "28  COMMERCIAL CONDOS               R5                         R5                                 5587\n",
       "02  TWO FAMILY DWELLINGS            B3                         B3                                 5473\n",
       "07  RENTALS - WALKUP APARTMENTS     C2                         C2                                 5300\n",
       "dtype: int64"
      ]
     },
     "execution_count": 43,
     "metadata": {},
     "output_type": "execute_result"
    }
   ],
   "source": [
    "df[['building_class_category', 'building_class_at_present', 'building_class_at_time_of_sale']].value_counts(ascending=False).head(20)"
   ]
  },
  {
   "cell_type": "markdown",
   "id": "34986c42",
   "metadata": {},
   "source": [
    "While R4, C0 and B1 seem like wonderful building classes, *I have no idea what they mean*. Luckily there's [a website we can go to](https://www1.nyc.gov/assets/finance/jump/hlpbldgcode.html) that will tell us what each of them mean.\n",
    "\n",
    "But also: I don't want to have to look them up all the time."
   ]
  },
  {
   "cell_type": "markdown",
   "id": "bb405c3e",
   "metadata": {},
   "source": [
    "## Making those descriptions a column in our dataset\n",
    "\n",
    "### Use `pd.read_html` to download the columns into a dataframe.\n",
    "\n",
    "The first few rows should look like this:\n",
    "    \n",
    "||Building Code|Description|\n",
    "|---|---|---|\n",
    "0|A|ONE FAMILY DWELLINGS|\n",
    "1|A0|CAPE COD|\n",
    "2|A1|TWO STORIES - DETACHED SM OR MID|\n",
    "3|A2|ONE STORY - PERMANENT LIVING QUARTER|\n",
    "\n",
    "* **Tip:** It doesn't involve any fancy CSS selectors or anything."
   ]
  },
  {
   "cell_type": "code",
   "execution_count": 67,
   "id": "397b4c2e",
   "metadata": {},
   "outputs": [
    {
     "data": {
      "text/html": [
       "<div>\n",
       "<style scoped>\n",
       "    .dataframe tbody tr th:only-of-type {\n",
       "        vertical-align: middle;\n",
       "    }\n",
       "\n",
       "    .dataframe tbody tr th {\n",
       "        vertical-align: top;\n",
       "    }\n",
       "\n",
       "    .dataframe thead th {\n",
       "        text-align: right;\n",
       "    }\n",
       "</style>\n",
       "<table border=\"1\" class=\"dataframe\">\n",
       "  <thead>\n",
       "    <tr style=\"text-align: right;\">\n",
       "      <th></th>\n",
       "      <th>Building Code</th>\n",
       "      <th>Description</th>\n",
       "    </tr>\n",
       "  </thead>\n",
       "  <tbody>\n",
       "    <tr>\n",
       "      <th>0</th>\n",
       "      <td>A</td>\n",
       "      <td>ONE FAMILY DWELLINGS</td>\n",
       "    </tr>\n",
       "    <tr>\n",
       "      <th>1</th>\n",
       "      <td>A0</td>\n",
       "      <td>CAPE COD</td>\n",
       "    </tr>\n",
       "    <tr>\n",
       "      <th>2</th>\n",
       "      <td>A1</td>\n",
       "      <td>TWO STORIES - DETACHED SM OR MID</td>\n",
       "    </tr>\n",
       "    <tr>\n",
       "      <th>3</th>\n",
       "      <td>A2</td>\n",
       "      <td>ONE STORY - PERMANENT LIVING QUARTER</td>\n",
       "    </tr>\n",
       "  </tbody>\n",
       "</table>\n",
       "</div>"
      ],
      "text/plain": [
       "  Building Code                           Description\n",
       "0             A                  ONE FAMILY DWELLINGS\n",
       "1            A0                              CAPE COD\n",
       "2            A1      TWO STORIES - DETACHED SM OR MID\n",
       "3            A2  ONE STORY - PERMANENT LIVING QUARTER"
      ]
     },
     "execution_count": 67,
     "metadata": {},
     "output_type": "execute_result"
    }
   ],
   "source": [
    "desc_list = pd.read_html('https://www1.nyc.gov/assets/finance/jump/hlpbldgcode.html', header=0)\n",
    "\n",
    "desc_df = pd.DataFrame(desc_list[0])\n",
    "\n",
    "desc_df.head(4)\n",
    "\n"
   ]
  },
  {
   "cell_type": "markdown",
   "id": "2939262e",
   "metadata": {},
   "source": [
    "### Combine the codes dataframe with our original dataframe"
   ]
  },
  {
   "cell_type": "code",
   "execution_count": 70,
   "id": "679f935f",
   "metadata": {},
   "outputs": [],
   "source": [
    "merged_df = df.merge(desc_df, left_on='building_class_at_time_of_sale', right_on='Building Code')\n",
    "\n"
   ]
  },
  {
   "cell_type": "markdown",
   "id": "751ccd3b",
   "metadata": {},
   "source": [
    "Feel free to fix up the new column headers so they're lower-case with `_` instead of spaces, if you want."
   ]
  },
  {
   "cell_type": "code",
   "execution_count": 72,
   "id": "f0a977d6",
   "metadata": {},
   "outputs": [],
   "source": [
    "merged_df.columns = merged_df.columns.str.lower().str.replace(' ', '_')"
   ]
  },
  {
   "cell_type": "markdown",
   "id": "78669252",
   "metadata": {},
   "source": [
    "## Let's save again, just for safety's sake\n",
    "\n",
    "Take your merged dataset and save it as, I don't know, `merged.csv` I guess. Remember to add `index=False` so the index doesn't get saved as a column!"
   ]
  },
  {
   "cell_type": "code",
   "execution_count": 73,
   "id": "d40e8d62",
   "metadata": {},
   "outputs": [],
   "source": [
    "merged_df.to_csv('merged_2.csv', index=False)"
   ]
  },
  {
   "cell_type": "code",
   "execution_count": null,
   "id": "e24a96f6",
   "metadata": {},
   "outputs": [],
   "source": []
  }
 ],
 "metadata": {
  "kernelspec": {
   "display_name": "Python 3.11.0rc2 64-bit ('3.11.0rc2')",
   "language": "python",
   "name": "python3"
  },
  "language_info": {
   "codemirror_mode": {
    "name": "ipython",
    "version": 3
   },
   "file_extension": ".py",
   "mimetype": "text/x-python",
   "name": "python",
   "nbconvert_exporter": "python",
   "pygments_lexer": "ipython3",
   "version": "3.11.0rc2"
  },
  "vscode": {
   "interpreter": {
    "hash": "fc3aa880ed2f6fc8e5407b309a4fe2d297610a21f18b59d0df2ee739a16bf0d5"
   }
  }
 },
 "nbformat": 4,
 "nbformat_minor": 5
}
