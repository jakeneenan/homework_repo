{
 "cells": [
  {
   "cell_type": "markdown",
   "id": "9f47ab87",
   "metadata": {},
   "source": [
    "# Scrape sale price documents for Brooklyn homes\n",
    "\n",
    "## Build a list of documents we would like to download\n",
    "\n",
    "Visit https://www.nyc.gov/site/finance/taxes/property-annualized-sales-update.page and peek under \"Detailed Annual Sales Reports by Borough.\" We want to build a list of all of the excel files that link to **one borough**. It's your choice - Manhattan, Brooklyn, Staten Island, etc.\n",
    "\n",
    "* _**Tip:** You can basically cut and paste from the end of class on this one_\n",
    "* _**Tip:** 2017 and earlier files are `.xls`, not `.xlsx`_"
   ]
  },
  {
   "cell_type": "code",
   "execution_count": 1,
   "id": "b97b5445",
   "metadata": {},
   "outputs": [
    {
     "name": "stdout",
     "output_type": "stream",
     "text": [
      "01 - Data Acquisition.ipynb 2016_brooklyn.xls\n",
      "02 - Data Compilation.ipynb 2017_brooklyn.xls\n",
      "03 - Data Analysis.ipynb    2018_brooklyn.xlsx\n",
      "04 - Data Exploration.ipynb 2019_brooklyn.xlsx\n",
      "2009_brooklyn.xls           2020_brooklyn.xlsx\n",
      "2010_brooklyn.xls           2021_brooklyn.xlsx\n",
      "2011_brooklyn.xls           cleaned.csv\n",
      "2012_brooklyn.xls           merged.csv\n",
      "2013_brooklyn.xls           sales_2007_brooklyn.xls\n",
      "2014_brooklyn.xls           sales_2008_brooklyn.xls\n",
      "2015_brooklyn.xls\n"
     ]
    }
   ],
   "source": [
    "!ls\n",
    "\n",
    "import requests\n",
    "from bs4 import BeautifulSoup\n",
    "\n",
    "response = requests.get(\"https://www.nyc.gov/site/finance/taxes/property-annualized-sales-update.page\")\n",
    "soup = BeautifulSoup(response.text)"
   ]
  },
  {
   "cell_type": "code",
   "execution_count": 29,
   "id": "29c7eca6",
   "metadata": {},
   "outputs": [],
   "source": [
    "# Copy and pasted the first loop from class\n",
    "\n",
    "links = soup.find_all('a')\n",
    "all_links = []\n",
    "rough_brooklyn_links = []\n",
    "brooklyn_links = []\n",
    "\n",
    "for link in links:\n",
    "    try:\n",
    "        if '/assets/finance/downloads/pdf/rolling_sales/annualized-sales/' in link['href']:\n",
    "            \n",
    "            full_link = 'https://www.nyc.gov' +link['href']\n",
    "            all_links.append(full_link)\n",
    "    except:\n",
    "        \n",
    "        pass\n",
    "\n",
    "\n",
    "for link in all_links:\n",
    "    if 'brooklyn' in link:\n",
    "        rough_brooklyn_links.append(link)\n",
    "\n",
    "\n",
    "for link in rough_brooklyn_links:\n",
    "    if 'xls' in link:\n",
    "        brooklyn_links.append(link)\n",
    "\n"
   ]
  },
  {
   "cell_type": "markdown",
   "id": "0933c104",
   "metadata": {},
   "source": [
    "## Use Python to make a list of the URLs to be downloaded, and save them to a file.\n",
    "\n",
    "The format is a _little_ different than what we did in class, as `/` at the beginning of a url means \"start from the top of the domain\" instead of \"start relative to the page you're on now.\" Just examine your URLs and you'll notice it.\n",
    "\n",
    "_**Tip:** If you want to google around at other ways to do this, the `'\\n'.join(urls)` method might be an interesting one to look at._"
   ]
  },
  {
   "cell_type": "code",
   "execution_count": 30,
   "id": "e724fd65",
   "metadata": {},
   "outputs": [
    {
     "data": {
      "text/plain": [
       "['https://www.nyc.gov/assets/finance/downloads/pdf/rolling_sales/annualized-sales/2021/2021_brooklyn.xlsx',\n",
       " 'https://www.nyc.gov/assets/finance/downloads/pdf/rolling_sales/annualized-sales/2020/2020_brooklyn.xlsx',\n",
       " 'https://www.nyc.gov/assets/finance/downloads/pdf/rolling_sales/annualized-sales/2019/2019_brooklyn.xlsx',\n",
       " 'https://www.nyc.gov/assets/finance/downloads/pdf/rolling_sales/annualized-sales/2018/2018_brooklyn.xlsx',\n",
       " 'https://www.nyc.gov/assets/finance/downloads/pdf/rolling_sales/annualized-sales/2017/2017_brooklyn.xls',\n",
       " 'https://www.nyc.gov/assets/finance/downloads/pdf/rolling_sales/annualized-sales/2016/2016_brooklyn.xls',\n",
       " 'https://www.nyc.gov/assets/finance/downloads/pdf/rolling_sales/annualized-sales/2015/2015_brooklyn.xls',\n",
       " 'https://www.nyc.gov/assets/finance/downloads/pdf/rolling_sales/annualized-sales/2014/2014_brooklyn.xls',\n",
       " 'https://www.nyc.gov/assets/finance/downloads/pdf/rolling_sales/annualized-sales/2013/2013_brooklyn.xls',\n",
       " 'https://www.nyc.gov/assets/finance/downloads/pdf/rolling_sales/annualized-sales/2012/2012_brooklyn.xls',\n",
       " 'https://www.nyc.gov/assets/finance/downloads/pdf/rolling_sales/annualized-sales/2011/2011_brooklyn.xls',\n",
       " 'https://www.nyc.gov/assets/finance/downloads/pdf/rolling_sales/annualized-sales/2010/2010_brooklyn.xls',\n",
       " 'https://www.nyc.gov/assets/finance/downloads/pdf/rolling_sales/annualized-sales/2009_brooklyn.xls']"
      ]
     },
     "execution_count": 30,
     "metadata": {},
     "output_type": "execute_result"
    }
   ],
   "source": [
    "brooklyn_links"
   ]
  },
  {
   "cell_type": "code",
   "execution_count": 31,
   "id": "4f775249",
   "metadata": {},
   "outputs": [],
   "source": [
    "\n",
    "\n",
    "with open(\"urls.txt\", 'w') as fp:\n",
    "    for url in brooklyn_links:\n",
    "        fp.write(url + \"\\n\")"
   ]
  },
  {
   "cell_type": "markdown",
   "id": "a8d3ce05",
   "metadata": {},
   "source": [
    "## Download the Excel files with `wget` or `curl`\n",
    "\n",
    "You can see what I did in class, but `wget` has an option to provide it with a filename to download al ist of files from."
   ]
  },
  {
   "cell_type": "code",
   "execution_count": 32,
   "id": "e24a96f6",
   "metadata": {},
   "outputs": [
    {
     "name": "stdout",
     "output_type": "stream",
     "text": [
      "--2022-11-17 15:29:00--  https://www.nyc.gov/assets/finance/downloads/pdf/rolling_sales/annualized-sales/2021/2021_brooklyn.xlsx\n",
      "Resolving www.nyc.gov (www.nyc.gov)... 173.223.185.104\n",
      "Connecting to www.nyc.gov (www.nyc.gov)|173.223.185.104|:443... connected.\n",
      "HTTP request sent, awaiting response... 200 OK\n",
      "Length: 3212511 (3.1M) [application/vnd.openxmlformats-officedocument.spreadsheetml.sheet]\n",
      "Saving to: ‘2021_brooklyn.xlsx.1’\n",
      "\n",
      "2021_brooklyn.xlsx. 100%[===================>]   3.06M  4.67MB/s    in 0.7s    \n",
      "\n",
      "2022-11-17 15:29:01 (4.67 MB/s) - ‘2021_brooklyn.xlsx.1’ saved [3212511/3212511]\n",
      "\n",
      "--2022-11-17 15:29:01--  https://www.nyc.gov/assets/finance/downloads/pdf/rolling_sales/annualized-sales/2020/2020_brooklyn.xlsx\n",
      "Reusing existing connection to www.nyc.gov:443.\n",
      "HTTP request sent, awaiting response... 200 OK\n",
      "Length: 2277851 (2.2M) [application/vnd.openxmlformats-officedocument.spreadsheetml.sheet]\n",
      "Saving to: ‘2020_brooklyn.xlsx.1’\n",
      "\n",
      "2020_brooklyn.xlsx. 100%[===================>]   2.17M  1.07MB/s    in 2.0s    \n",
      "\n",
      "2022-11-17 15:29:04 (1.07 MB/s) - ‘2020_brooklyn.xlsx.1’ saved [2277851/2277851]\n",
      "\n",
      "--2022-11-17 15:29:04--  https://www.nyc.gov/assets/finance/downloads/pdf/rolling_sales/annualized-sales/2019/2019_brooklyn.xlsx\n",
      "Reusing existing connection to www.nyc.gov:443.\n",
      "HTTP request sent, awaiting response... 200 OK\n",
      "Length: 2633331 (2.5M) [application/vnd.openxmlformats-officedocument.spreadsheetml.sheet]\n",
      "Saving to: ‘2019_brooklyn.xlsx.1’\n",
      "\n",
      "2019_brooklyn.xlsx. 100%[===================>]   2.51M  2.36MB/s    in 1.1s    \n",
      "\n",
      "2022-11-17 15:29:05 (2.36 MB/s) - ‘2019_brooklyn.xlsx.1’ saved [2633331/2633331]\n",
      "\n",
      "--2022-11-17 15:29:05--  https://www.nyc.gov/assets/finance/downloads/pdf/rolling_sales/annualized-sales/2018/2018_brooklyn.xlsx\n",
      "Reusing existing connection to www.nyc.gov:443.\n",
      "HTTP request sent, awaiting response... 200 OK\n",
      "Length: 2879140 (2.7M) [application/vnd.openxmlformats-officedocument.spreadsheetml.sheet]\n",
      "Saving to: ‘2018_brooklyn.xlsx.1’\n",
      "\n",
      "2018_brooklyn.xlsx. 100%[===================>]   2.75M  1.40MB/s    in 2.0s    \n",
      "\n",
      "2022-11-17 15:29:07 (1.40 MB/s) - ‘2018_brooklyn.xlsx.1’ saved [2879140/2879140]\n",
      "\n",
      "--2022-11-17 15:29:07--  https://www.nyc.gov/assets/finance/downloads/pdf/rolling_sales/annualized-sales/2017/2017_brooklyn.xls\n",
      "Reusing existing connection to www.nyc.gov:443.\n",
      "HTTP request sent, awaiting response... 200 OK\n",
      "Length: 6566400 (6.3M) [application/vnd.ms-excel]\n",
      "Saving to: ‘2017_brooklyn.xls.1’\n",
      "\n",
      "2017_brooklyn.xls.1 100%[===================>]   6.26M  1.39MB/s    in 4.9s    \n",
      "\n",
      "2022-11-17 15:29:12 (1.27 MB/s) - ‘2017_brooklyn.xls.1’ saved [6566400/6566400]\n",
      "\n",
      "--2022-11-17 15:29:12--  https://www.nyc.gov/assets/finance/downloads/pdf/rolling_sales/annualized-sales/2016/2016_brooklyn.xls\n",
      "Reusing existing connection to www.nyc.gov:443.\n",
      "HTTP request sent, awaiting response... 200 OK\n",
      "Length: 7247872 (6.9M) [application/vnd.ms-excel]\n",
      "Saving to: ‘2016_brooklyn.xls.1’\n",
      "\n",
      "2016_brooklyn.xls.1 100%[===================>]   6.91M  3.13MB/s    in 2.2s    \n",
      "\n",
      "2022-11-17 15:29:15 (3.13 MB/s) - ‘2016_brooklyn.xls.1’ saved [7247872/7247872]\n",
      "\n",
      "--2022-11-17 15:29:15--  https://www.nyc.gov/assets/finance/downloads/pdf/rolling_sales/annualized-sales/2015/2015_brooklyn.xls\n",
      "Reusing existing connection to www.nyc.gov:443.\n",
      "HTTP request sent, awaiting response... 200 OK\n",
      "Length: 7196672 (6.9M) [application/vnd.ms-excel]\n",
      "Saving to: ‘2015_brooklyn.xls.1’\n",
      "\n",
      "2015_brooklyn.xls.1 100%[===================>]   6.86M  1.05MB/s    in 6.3s    \n",
      "\n",
      "2022-11-17 15:29:22 (1.09 MB/s) - ‘2015_brooklyn.xls.1’ saved [7196672/7196672]\n",
      "\n",
      "--2022-11-17 15:29:22--  https://www.nyc.gov/assets/finance/downloads/pdf/rolling_sales/annualized-sales/2014/2014_brooklyn.xls\n",
      "Reusing existing connection to www.nyc.gov:443.\n",
      "HTTP request sent, awaiting response... 200 OK\n",
      "Length: 7180800 (6.8M) [application/vnd.ms-excel]\n",
      "Saving to: ‘2014_brooklyn.xls.1’\n",
      "\n",
      "2014_brooklyn.xls.1 100%[===================>]   6.85M  1.86MB/s    in 3.7s    \n",
      "\n",
      "2022-11-17 15:29:26 (1.86 MB/s) - ‘2014_brooklyn.xls.1’ saved [7180800/7180800]\n",
      "\n",
      "--2022-11-17 15:29:26--  https://www.nyc.gov/assets/finance/downloads/pdf/rolling_sales/annualized-sales/2013/2013_brooklyn.xls\n",
      "Reusing existing connection to www.nyc.gov:443.\n",
      "HTTP request sent, awaiting response... 200 OK\n",
      "Length: 7141888 (6.8M) [application/vnd.ms-excel]\n",
      "Saving to: ‘2013_brooklyn.xls.1’\n",
      "\n",
      "2013_brooklyn.xls.1 100%[===================>]   6.81M  1004KB/s    in 6.7s    \n",
      "\n",
      "2022-11-17 15:29:33 (1.02 MB/s) - ‘2013_brooklyn.xls.1’ saved [7141888/7141888]\n",
      "\n",
      "--2022-11-17 15:29:33--  https://www.nyc.gov/assets/finance/downloads/pdf/rolling_sales/annualized-sales/2012/2012_brooklyn.xls\n",
      "Reusing existing connection to www.nyc.gov:443.\n",
      "HTTP request sent, awaiting response... 200 OK\n",
      "Length: 6748672 (6.4M) [application/vnd.ms-excel]\n",
      "Saving to: ‘2012_brooklyn.xls.1’\n",
      "\n",
      "2012_brooklyn.xls.1 100%[===================>]   6.44M  5.04MB/s    in 1.3s    \n",
      "\n",
      "2022-11-17 15:29:34 (5.04 MB/s) - ‘2012_brooklyn.xls.1’ saved [6748672/6748672]\n",
      "\n",
      "--2022-11-17 15:29:34--  https://www.nyc.gov/assets/finance/downloads/pdf/rolling_sales/annualized-sales/2011/2011_brooklyn.xls\n",
      "Reusing existing connection to www.nyc.gov:443.\n",
      "HTTP request sent, awaiting response... 200 OK\n",
      "Length: 5794304 (5.5M) [application/vnd.ms-excel]\n",
      "Saving to: ‘2011_brooklyn.xls.1’\n",
      "\n",
      "2011_brooklyn.xls.1 100%[===================>]   5.53M  1.42MB/s    in 4.3s    \n",
      "\n",
      "2022-11-17 15:29:39 (1.29 MB/s) - ‘2011_brooklyn.xls.1’ saved [5794304/5794304]\n",
      "\n",
      "--2022-11-17 15:29:39--  https://www.nyc.gov/assets/finance/downloads/pdf/rolling_sales/annualized-sales/2010/2010_brooklyn.xls\n",
      "Reusing existing connection to www.nyc.gov:443.\n",
      "HTTP request sent, awaiting response... 200 OK\n",
      "Length: 5488128 (5.2M) [application/vnd.ms-excel]\n",
      "Saving to: ‘2010_brooklyn.xls.1’\n",
      "\n",
      "2010_brooklyn.xls.1 100%[===================>]   5.23M  1.35MB/s    in 4.2s    \n",
      "\n",
      "2022-11-17 15:29:43 (1.24 MB/s) - ‘2010_brooklyn.xls.1’ saved [5488128/5488128]\n",
      "\n",
      "--2022-11-17 15:29:43--  https://www.nyc.gov/assets/finance/downloads/pdf/rolling_sales/annualized-sales/2009_brooklyn.xls\n",
      "Reusing existing connection to www.nyc.gov:443.\n",
      "HTTP request sent, awaiting response... 200 OK\n",
      "Length: 5622784 (5.4M) [application/vnd.ms-excel]\n",
      "Saving to: ‘2009_brooklyn.xls.1’\n",
      "\n",
      "2009_brooklyn.xls.1 100%[===================>]   5.36M  7.34MB/s    in 0.7s    \n",
      "\n",
      "2022-11-17 15:29:44 (7.34 MB/s) - ‘2009_brooklyn.xls.1’ saved [5622784/5622784]\n",
      "\n",
      "FINISHED --2022-11-17 15:29:44--\n",
      "Total wall clock time: 44s\n",
      "Downloaded: 13 files, 67M in 40s (1.67 MB/s)\n"
     ]
    }
   ],
   "source": [
    "\n",
    "\n",
    "!wget -i urls.txt"
   ]
  }
 ],
 "metadata": {
  "kernelspec": {
   "display_name": "Python 3.11.0rc2 64-bit ('3.11.0rc2')",
   "language": "python",
   "name": "python3"
  },
  "language_info": {
   "codemirror_mode": {
    "name": "ipython",
    "version": 3
   },
   "file_extension": ".py",
   "mimetype": "text/x-python",
   "name": "python",
   "nbconvert_exporter": "python",
   "pygments_lexer": "ipython3",
   "version": "3.11.0rc2"
  },
  "vscode": {
   "interpreter": {
    "hash": "fc3aa880ed2f6fc8e5407b309a4fe2d297610a21f18b59d0df2ee739a16bf0d5"
   }
  }
 },
 "nbformat": 4,
 "nbformat_minor": 5
}
