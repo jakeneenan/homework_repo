{
 "cells": [
  {
   "cell_type": "markdown",
   "id": "5371f04c",
   "metadata": {},
   "source": [
    "# Lumber Prices\n",
    "\n",
    "* **Data:** `lumber-prices.csv`\n",
    "* **Description:** Chicago lumber futures per 1000 board feet, in USD, as of some time in 2021. To keep things simple, we're going to say that this is the measurement over a month instead of just one date per month. Basically: each month, how much you'd pay if you bought 125 2x4 boards at the hardware store.\n",
    "* **Source:** https://tradingeconomics.com/commodity/lumber\n",
    "* **Columns of interest:**\n",
    "    * `Open` is the price at the start of the month\n",
    "    * `High` is the high price over the course of the month\n",
    "    * `Low` is the low number over the course of the month\n",
    "    * `Close` is the number at the end of the month"
   ]
  },
  {
   "cell_type": "markdown",
   "id": "ffcf050f",
   "metadata": {},
   "source": [
    "## Read in your data"
   ]
  },
  {
   "cell_type": "code",
   "execution_count": 1,
   "id": "505f1e94",
   "metadata": {},
   "outputs": [
    {
     "data": {
      "text/html": [
       "<div>\n",
       "<style scoped>\n",
       "    .dataframe tbody tr th:only-of-type {\n",
       "        vertical-align: middle;\n",
       "    }\n",
       "\n",
       "    .dataframe tbody tr th {\n",
       "        vertical-align: top;\n",
       "    }\n",
       "\n",
       "    .dataframe thead th {\n",
       "        text-align: right;\n",
       "    }\n",
       "</style>\n",
       "<table border=\"1\" class=\"dataframe\">\n",
       "  <thead>\n",
       "    <tr style=\"text-align: right;\">\n",
       "      <th></th>\n",
       "      <th>open</th>\n",
       "      <th>high</th>\n",
       "      <th>low</th>\n",
       "      <th>close</th>\n",
       "      <th>date</th>\n",
       "    </tr>\n",
       "  </thead>\n",
       "  <tbody>\n",
       "    <tr>\n",
       "      <th>0</th>\n",
       "      <td>$407.00</td>\n",
       "      <td>$424.70</td>\n",
       "      <td>$377.00</td>\n",
       "      <td>$424.70</td>\n",
       "      <td>1996-12-09T00:00:00</td>\n",
       "    </tr>\n",
       "    <tr>\n",
       "      <th>1</th>\n",
       "      <td>$426.00</td>\n",
       "      <td>$450.50</td>\n",
       "      <td>$395.00</td>\n",
       "      <td>$411.40</td>\n",
       "      <td>1997-01-02T00:00:00</td>\n",
       "    </tr>\n",
       "    <tr>\n",
       "      <th>2</th>\n",
       "      <td>$408.50</td>\n",
       "      <td>$421.50</td>\n",
       "      <td>$382.10</td>\n",
       "      <td>$383.50</td>\n",
       "      <td>1997-02-03T00:00:00</td>\n",
       "    </tr>\n",
       "    <tr>\n",
       "      <th>3</th>\n",
       "      <td>$386.00</td>\n",
       "      <td>$389.70</td>\n",
       "      <td>$355.00</td>\n",
       "      <td>$380.50</td>\n",
       "      <td>1997-03-03T00:00:00</td>\n",
       "    </tr>\n",
       "    <tr>\n",
       "      <th>4</th>\n",
       "      <td>$378.00</td>\n",
       "      <td>$417.50</td>\n",
       "      <td>$376.50</td>\n",
       "      <td>$403.10</td>\n",
       "      <td>1997-04-01T00:00:00</td>\n",
       "    </tr>\n",
       "    <tr>\n",
       "      <th>5</th>\n",
       "      <td>$401.90</td>\n",
       "      <td>$404.40</td>\n",
       "      <td>$370.10</td>\n",
       "      <td>$380.50</td>\n",
       "      <td>1997-05-01T00:00:00</td>\n",
       "    </tr>\n",
       "    <tr>\n",
       "      <th>6</th>\n",
       "      <td>$387.50</td>\n",
       "      <td>$393.10</td>\n",
       "      <td>$347.10</td>\n",
       "      <td>$378.00</td>\n",
       "      <td>1997-06-02T00:00:00</td>\n",
       "    </tr>\n",
       "    <tr>\n",
       "      <th>7</th>\n",
       "      <td>$380.60</td>\n",
       "      <td>$380.90</td>\n",
       "      <td>$332.00</td>\n",
       "      <td>$343.70</td>\n",
       "      <td>1997-07-01T00:00:00</td>\n",
       "    </tr>\n",
       "    <tr>\n",
       "      <th>8</th>\n",
       "      <td>$342.00</td>\n",
       "      <td>$365.90</td>\n",
       "      <td>$341.10</td>\n",
       "      <td>$356.70</td>\n",
       "      <td>1997-08-01T00:00:00</td>\n",
       "    </tr>\n",
       "    <tr>\n",
       "      <th>9</th>\n",
       "      <td>$356.70</td>\n",
       "      <td>$364.40</td>\n",
       "      <td>$290.50</td>\n",
       "      <td>$296.60</td>\n",
       "      <td>1997-09-02T00:00:00</td>\n",
       "    </tr>\n",
       "  </tbody>\n",
       "</table>\n",
       "</div>"
      ],
      "text/plain": [
       "      open     high      low    close                 date\n",
       "0  $407.00  $424.70  $377.00  $424.70  1996-12-09T00:00:00\n",
       "1  $426.00  $450.50  $395.00  $411.40  1997-01-02T00:00:00\n",
       "2  $408.50  $421.50  $382.10  $383.50  1997-02-03T00:00:00\n",
       "3  $386.00  $389.70  $355.00  $380.50  1997-03-03T00:00:00\n",
       "4  $378.00  $417.50  $376.50  $403.10  1997-04-01T00:00:00\n",
       "5  $401.90  $404.40  $370.10  $380.50  1997-05-01T00:00:00\n",
       "6  $387.50  $393.10  $347.10  $378.00  1997-06-02T00:00:00\n",
       "7  $380.60  $380.90  $332.00  $343.70  1997-07-01T00:00:00\n",
       "8  $342.00  $365.90  $341.10  $356.70  1997-08-01T00:00:00\n",
       "9  $356.70  $364.40  $290.50  $296.60  1997-09-02T00:00:00"
      ]
     },
     "execution_count": 1,
     "metadata": {},
     "output_type": "execute_result"
    }
   ],
   "source": [
    "import pandas as pd\n",
    "\n",
    "df = pd.read_csv('lumber-prices.csv')\n",
    "df.head(10)"
   ]
  },
  {
   "cell_type": "markdown",
   "id": "e0403107",
   "metadata": {},
   "source": [
    "## What is the earliest month in this dataset?\n",
    "\n",
    "We only have one reading per month, so you could also read this as \"what is the earliest date in the dataset\""
   ]
  },
  {
   "cell_type": "code",
   "execution_count": 2,
   "id": "9dfd66cc",
   "metadata": {},
   "outputs": [
    {
     "data": {
      "text/plain": [
       "0    1996-12-09T00:00:00\n",
       "Name: date, dtype: object"
      ]
     },
     "execution_count": 2,
     "metadata": {},
     "output_type": "execute_result"
    }
   ],
   "source": [
    "df.date.sort_values().head(1)"
   ]
  },
  {
   "cell_type": "markdown",
   "id": "2cd14f08",
   "metadata": {},
   "source": [
    "## What is the most recent month in this dataset?\n",
    "\n",
    "We only have one reading per month, so you could also read this as \"what is the earliest date in the dataset\""
   ]
  },
  {
   "cell_type": "code",
   "execution_count": 3,
   "id": "80d23da2",
   "metadata": {},
   "outputs": [
    {
     "data": {
      "text/plain": [
       "299    2021-11-01T00:00:00\n",
       "Name: date, dtype: object"
      ]
     },
     "execution_count": 3,
     "metadata": {},
     "output_type": "execute_result"
    }
   ],
   "source": [
    "df.date.sort_values(ascending=False).head(1)"
   ]
  },
  {
   "cell_type": "markdown",
   "id": "0a55273d",
   "metadata": {},
   "source": [
    "## What 3 months had the highest high lumber price?"
   ]
  },
  {
   "cell_type": "code",
   "execution_count": 4,
   "id": "0e5cf127",
   "metadata": {},
   "outputs": [
    {
     "name": "stderr",
     "output_type": "stream",
     "text": [
      "/var/folders/8w/c7bhb4y56693wcs88hywlmq00000gn/T/ipykernel_55588/2617150009.py:1: FutureWarning: The default value of regex will change from True to False in a future version. In addition, single character regular expressions will *not* be treated as literal strings when regex=True.\n",
      "  df.high = df.high.str.replace('$','')\n"
     ]
    }
   ],
   "source": [
    "df.high = df.high.str.replace('$','')"
   ]
  },
  {
   "cell_type": "code",
   "execution_count": 5,
   "id": "310ece7d",
   "metadata": {},
   "outputs": [],
   "source": [
    "df.high = df.high.astype(float)"
   ]
  },
  {
   "cell_type": "code",
   "execution_count": 6,
   "id": "59845998",
   "metadata": {},
   "outputs": [
    {
     "data": {
      "text/plain": [
       "292    2021-04-01T00:00:00\n",
       "293    2021-05-03T00:00:00\n",
       "294    2021-06-01T00:00:00\n",
       "Name: date, dtype: object"
      ]
     },
     "execution_count": 6,
     "metadata": {},
     "output_type": "execute_result"
    }
   ],
   "source": [
    "highs = df.high.sort_values(ascending=False).head(3)\n",
    "\n",
    "df[df.high.isin(highs)].date"
   ]
  },
  {
   "cell_type": "markdown",
   "id": "ecf489fb",
   "metadata": {},
   "source": [
    "## What 3 months had the lowest low lumber price?"
   ]
  },
  {
   "cell_type": "code",
   "execution_count": 7,
   "id": "6d910e6e",
   "metadata": {},
   "outputs": [
    {
     "name": "stderr",
     "output_type": "stream",
     "text": [
      "/var/folders/8w/c7bhb4y56693wcs88hywlmq00000gn/T/ipykernel_55588/993915673.py:1: FutureWarning: The default value of regex will change from True to False in a future version. In addition, single character regular expressions will *not* be treated as literal strings when regex=True.\n",
      "  df.low = df.low.str.replace('$','')\n"
     ]
    }
   ],
   "source": [
    "df.low = df.low.str.replace('$','')\n",
    "df.low = df.low.astype(float)"
   ]
  },
  {
   "cell_type": "code",
   "execution_count": 8,
   "id": "ddcccea4",
   "metadata": {},
   "outputs": [
    {
     "data": {
      "text/plain": [
       "145    2009-01-02T00:00:00\n",
       "146    2009-02-02T00:00:00\n",
       "147    2009-03-02T00:00:00\n",
       "Name: date, dtype: object"
      ]
     },
     "execution_count": 8,
     "metadata": {},
     "output_type": "execute_result"
    }
   ],
   "source": [
    "lows = df.low.sort_values().head(3)\n",
    "df[df.low.isin(lows)].date"
   ]
  },
  {
   "cell_type": "markdown",
   "id": "843b2f36",
   "metadata": {},
   "source": [
    "## What is the median \"high\" lumber price in our dataset?"
   ]
  },
  {
   "cell_type": "code",
   "execution_count": 9,
   "id": "d7d69d6b",
   "metadata": {},
   "outputs": [
    {
     "data": {
      "text/plain": [
       "329.65"
      ]
     },
     "execution_count": 9,
     "metadata": {},
     "output_type": "execute_result"
    }
   ],
   "source": [
    "df.high.median()"
   ]
  },
  {
   "cell_type": "markdown",
   "id": "8dcb415a",
   "metadata": {},
   "source": [
    "## What is the median \"low\" lumber price in our dataset?"
   ]
  },
  {
   "cell_type": "code",
   "execution_count": 10,
   "id": "f783e687",
   "metadata": {},
   "outputs": [
    {
     "data": {
      "text/plain": [
       "286.1"
      ]
     },
     "execution_count": 10,
     "metadata": {},
     "output_type": "execute_result"
    }
   ],
   "source": [
    "df.low.median()"
   ]
  },
  {
   "cell_type": "markdown",
   "id": "b2e6b0ea",
   "metadata": {},
   "source": [
    "## Plot the maximum \"high\" lumber price on an annual basis."
   ]
  },
  {
   "cell_type": "code",
   "execution_count": 11,
   "id": "78759a14",
   "metadata": {},
   "outputs": [
    {
     "data": {
      "text/plain": [
       "<AxesSubplot: xlabel='date_datetime'>"
      ]
     },
     "execution_count": 11,
     "metadata": {},
     "output_type": "execute_result"
    },
    {
     "data": {
      "image/png": "[encoded data removed]",
      "text/plain": [
       "<Figure size 640x480 with 1 Axes>"
      ]
     },
     "metadata": {},
     "output_type": "display_data"
    }
   ],
   "source": [
    "df['date_datetime'] = pd.to_datetime(df.date)\n",
    "\n",
    "df.resample('Y', on='date_datetime').high.max().plot()"
   ]
  },
  {
   "cell_type": "markdown",
   "id": "898b6df0",
   "metadata": {},
   "source": [
    "## Plot the lowest \"low\" lumber price on an annual basis."
   ]
  },
  {
   "cell_type": "code",
   "execution_count": 12,
   "id": "007ed835",
   "metadata": {},
   "outputs": [
    {
     "data": {
      "text/plain": [
       "<AxesSubplot: xlabel='date_datetime'>"
      ]
     },
     "execution_count": 12,
     "metadata": {},
     "output_type": "execute_result"
    },
    {
     "data": {
      "image/png": "[encoded data removed]",
      "text/plain": [
       "<Figure size 640x480 with 1 Axes>"
      ]
     },
     "metadata": {},
     "output_type": "display_data"
    }
   ],
   "source": [
    "df.resample('Y', on='date_datetime').low.min().plot()"
   ]
  },
  {
   "cell_type": "markdown",
   "id": "5ac81dd7",
   "metadata": {},
   "source": [
    "## Plot the median \"close\" lumber price on an quarterly basis."
   ]
  },
  {
   "cell_type": "code",
   "execution_count": 13,
   "id": "e23ff6ca",
   "metadata": {},
   "outputs": [
    {
     "name": "stderr",
     "output_type": "stream",
     "text": [
      "/var/folders/8w/c7bhb4y56693wcs88hywlmq00000gn/T/ipykernel_55588/2377160366.py:1: FutureWarning: The default value of regex will change from True to False in a future version. In addition, single character regular expressions will *not* be treated as literal strings when regex=True.\n",
      "  df.close = df.close.str.replace('$','')\n"
     ]
    },
    {
     "data": {
      "text/plain": [
       "<AxesSubplot: xlabel='date_datetime'>"
      ]
     },
     "execution_count": 13,
     "metadata": {},
     "output_type": "execute_result"
    },
    {
     "data": {
      "image/png": "[encoded data removed]",
      "text/plain": [
       "<Figure size 640x480 with 1 Axes>"
      ]
     },
     "metadata": {},
     "output_type": "display_data"
    }
   ],
   "source": [
    "df.close = df.close.str.replace('$','')\n",
    "df.close = df.close.astype(float)\n",
    "\n",
    "df.resample('Q', on='date_datetime').close.median().plot()"
   ]
  },
  {
   "cell_type": "markdown",
   "id": "a507d8a6",
   "metadata": {},
   "source": [
    "## What month in our dataset had the largest swing between high and low?\n",
    "\n",
    "You'll want to create a new column for this one"
   ]
  },
  {
   "cell_type": "code",
   "execution_count": 14,
   "id": "4178d51c",
   "metadata": {},
   "outputs": [],
   "source": [
    "df['swing'] = df.high - df.low"
   ]
  },
  {
   "cell_type": "code",
   "execution_count": 15,
   "id": "42d3445c",
   "metadata": {},
   "outputs": [
    {
     "data": {
      "text/plain": [
       "294   2021-06-01\n",
       "Name: date_datetime, dtype: datetime64[ns]"
      ]
     },
     "execution_count": 15,
     "metadata": {},
     "output_type": "execute_result"
    }
   ],
   "source": [
    "df[df.swing == df.swing.max()].date_datetime"
   ]
  },
  {
   "cell_type": "markdown",
   "id": "dd08822c",
   "metadata": {},
   "source": [
    "## In how many months did lumber prices rise?\n",
    "\n",
    "If the price was greater at the end of the month than the beginning of the month, we'll say the price rose."
   ]
  },
  {
   "cell_type": "code",
   "execution_count": 16,
   "id": "e6549397",
   "metadata": {},
   "outputs": [
    {
     "name": "stderr",
     "output_type": "stream",
     "text": [
      "/var/folders/8w/c7bhb4y56693wcs88hywlmq00000gn/T/ipykernel_55588/938091729.py:1: FutureWarning: The default value of regex will change from True to False in a future version. In addition, single character regular expressions will *not* be treated as literal strings when regex=True.\n",
      "  df.open = df.open.str.replace('$','')\n"
     ]
    }
   ],
   "source": [
    "df.open = df.open.str.replace('$','')\n",
    "df.open = df.open.astype(float)\n",
    "\n",
    "df['net_change'] = df.close - df.open"
   ]
  },
  {
   "cell_type": "code",
   "execution_count": 17,
   "id": "696becea",
   "metadata": {},
   "outputs": [
    {
     "data": {
      "text/plain": [
       "145"
      ]
     },
     "execution_count": 17,
     "metadata": {},
     "output_type": "execute_result"
    }
   ],
   "source": [
    "df[df.net_change > 0].date.count()"
   ]
  },
  {
   "cell_type": "markdown",
   "id": "28594336",
   "metadata": {},
   "source": [
    "## How many months did lumber prices drop?\n",
    "\n",
    "If the price was lower at the end of the month than the beginning of the month, we'll say the price dropped."
   ]
  },
  {
   "cell_type": "code",
   "execution_count": 18,
   "id": "d94f1cfc",
   "metadata": {},
   "outputs": [
    {
     "data": {
      "text/plain": [
       "155"
      ]
     },
     "execution_count": 18,
     "metadata": {},
     "output_type": "execute_result"
    }
   ],
   "source": [
    "df[df.net_change < 0].date.count()"
   ]
  },
  {
   "cell_type": "markdown",
   "id": "3c8b4471",
   "metadata": {},
   "source": [
    "## In 2020, how many months saw lumber prices rise vs lumber prices fall?"
   ]
  },
  {
   "cell_type": "code",
   "execution_count": 19,
   "id": "22afd8cf",
   "metadata": {},
   "outputs": [
    {
     "name": "stdout",
     "output_type": "stream",
     "text": [
      "In 2020, 8 months saw a rise in lumber prices.\n"
     ]
    }
   ],
   "source": [
    "rose = df[(df.date_datetime.dt.year == 2020) & (df.net_change >0)].date_datetime.count()\n",
    "\n",
    "print(f'In 2020, {rose} months saw a rise in lumber prices.')"
   ]
  },
  {
   "cell_type": "code",
   "execution_count": 20,
   "id": "6632a6bd",
   "metadata": {},
   "outputs": [
    {
     "name": "stdout",
     "output_type": "stream",
     "text": [
      "In 2020, 4 months saw a fall in lumber prices.\n"
     ]
    }
   ],
   "source": [
    "fell = df[(df.date_datetime.dt.year == 2020) & (df.net_change<0)].date_datetime.count()\n",
    "print(f'In 2020, {fell} months saw a fall in lumber prices.')"
   ]
  },
  {
   "cell_type": "markdown",
   "id": "3b98b6d5",
   "metadata": {},
   "source": [
    "## In 2000, how many months saw lumber prices rise vs lumber prices fall?"
   ]
  },
  {
   "cell_type": "code",
   "execution_count": 21,
   "id": "57c3c786",
   "metadata": {},
   "outputs": [
    {
     "name": "stdout",
     "output_type": "stream",
     "text": [
      "In 2000, 2 months saw a rise in lumber prices.\n"
     ]
    }
   ],
   "source": [
    "rose = df[(df.date_datetime.dt.year == 2000) & (df.net_change >0)].date_datetime.count()\n",
    "print(f'In 2000, {rose} months saw a rise in lumber prices.')"
   ]
  },
  {
   "cell_type": "code",
   "execution_count": 22,
   "id": "534265d7",
   "metadata": {},
   "outputs": [
    {
     "name": "stdout",
     "output_type": "stream",
     "text": [
      "In 2000, 10 months saw a fall in lumber prices.\n"
     ]
    }
   ],
   "source": [
    "fell = df[(df.date_datetime.dt.year == 2000) & (df.net_change<0)].date_datetime.count()\n",
    "print(f'In 2000, {fell} months saw a fall in lumber prices.')"
   ]
  }
 ],
 "metadata": {
  "kernelspec": {
   "display_name": "Python 3.11.0rc2 64-bit ('3.11.0rc2')",
   "language": "python",
   "name": "python3"
  },
  "language_info": {
   "codemirror_mode": {
    "name": "ipython",
    "version": 3
   },
   "file_extension": ".py",
   "mimetype": "text/x-python",
   "name": "python",
   "nbconvert_exporter": "python",
   "pygments_lexer": "ipython3",
   "version": "3.11.0"
  },
  "vscode": {
   "interpreter": {
    "hash": "fc3aa880ed2f6fc8e5407b309a4fe2d297610a21f18b59d0df2ee739a16bf0d5"
   }
  }
 },
 "nbformat": 4,
 "nbformat_minor": 5
}
